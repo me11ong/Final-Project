{
 "cells": [
  {
   "cell_type": "code",
   "execution_count": null,
   "metadata": {},
   "outputs": [],
   "source": [
    "from autodistill_yolov8 import YOLOv8\n",
    "import supervision as sv"
   ]
  },
  {
   "cell_type": "markdown",
   "metadata": {},
   "source": [
    "## best.pt로 detect시도"
   ]
  },
  {
   "cell_type": "code",
   "execution_count": null,
   "metadata": {},
   "outputs": [],
   "source": [
    "import os\n",
    "image_dir = './test/images'\n",
    "file_list=os.listdir(image_dir)\n",
    "\n",
    "model=YOLOv8(\"runs/detect/train/weights/best.pt\")\n",
    "result = model.predict(\"./test/images/left1011_jpg.rf.80329927f937d116686bc3a6f913274a.jpg\")[0]\n",
    "detections = sv.Detections.from_yolov8(result)\n",
    "\n",
    "\n",
    "print(detections)"
   ]
  },
  {
   "cell_type": "code",
   "execution_count": null,
   "metadata": {},
   "outputs": [],
   "source": [
    "def predict_and_save(img):\n",
    "    import supervision as sv\n",
    "    import cv2\n",
    "    import torch\n",
    "    \n",
    "    image = cv2.imread(img)\n",
    "    print(img)\n",
    "    classes = [\"water tank\", \"lift\", \"worker\"]\n",
    "    \n",
    "    with torch.no_grad():\n",
    "        model=YOLOv8(\"runs/detect/train/weights/best.pt\")\n",
    "        result = model.predict(img)[0]\n",
    "        detections = sv.Detections.from_yolov8(result)\n",
    "        labels = [f\"{classes[class_id]} {confidence:0.2f}\" for _, _, confidence, class_id, _ in detections]\n",
    "        \n",
    "    box_annotator = sv.BoxAnnotator()\n",
    "    annotated_frame = box_annotator.annotate(scene=image.copy(), detections=detections, labels=labels)\n",
    "    sv.plot_image(annotated_frame)\n",
    "    \n",
    "    parts = img.split(\"_jpg.rf.\")\n",
    "    parts = parts[0].split(\"/\")[-1]\n",
    "    output_path=\"./YOLO_result/\"+parts+\".png\"\n",
    "    print(output_path)\n",
    "    cv2.imwrite(output_path, annotated_frame)\n",
    "    \n",
    "    return"
   ]
  },
  {
   "cell_type": "code",
   "execution_count": null,
   "metadata": {},
   "outputs": [],
   "source": [
    "import os\n",
    "test_list=os.listdir('./test/images')\n",
    "\n",
    "    \n",
    "for i in range(len(test_list)):\n",
    "    predict_and_save('./test/images/'+test_list[i])"
   ]
  },
  {
   "cell_type": "markdown",
   "metadata": {},
   "source": [
    "## Map 구하기 (test set)"
   ]
  },
  {
   "cell_type": "code",
   "execution_count": null,
   "metadata": {},
   "outputs": [],
   "source": [
    "import supervision as sv\n",
    "import numpy as np\n",
    "from autodistill_yolov8 import YOLOv8\n",
    "\n",
    "dataset = sv.DetectionDataset.from_yolo(\"./test/images/\",\"./test/labels/\",\"./data.yaml\")\n",
    "\n",
    "def callback(image: np.ndarray) -> sv.Detections:\n",
    "    model=YOLOv8(\"runs/detect/train/weights/best.pt\")\n",
    "    result = model.predict(image)[0]\n",
    "    return sv.Detections.from_yolov8(result)\n",
    "\n",
    "from detection import MeanAveragePrecision\n",
    "mean_average_precision = MeanAveragePrecision.benchmark(\n",
    "dataset = dataset,\n",
    "callback = callback\n",
    ")\n"
   ]
  },
  {
   "cell_type": "code",
   "execution_count": null,
   "metadata": {},
   "outputs": [],
   "source": [
    "print(\"map(50_95):\", mean_average_precision.map50_95)\n",
    "print(\"map(50):\",mean_average_precision.map50)\n",
    "print(\"map(75):\",mean_average_precision.map75)\n",
    "print(\"map(per_class):\",mean_average_precision.per_class_ap50_95)"
   ]
  }
 ],
 "metadata": {
  "kernelspec": {
   "display_name": "yolo8",
   "language": "python",
   "name": "python3"
  },
  "language_info": {
   "codemirror_mode": {
    "name": "ipython",
    "version": 3
   },
   "file_extension": ".py",
   "mimetype": "text/x-python",
   "name": "python",
   "nbconvert_exporter": "python",
   "pygments_lexer": "ipython3",
   "version": "3.8.17"
  },
  "orig_nbformat": 4
 },
 "nbformat": 4,
 "nbformat_minor": 2
}
